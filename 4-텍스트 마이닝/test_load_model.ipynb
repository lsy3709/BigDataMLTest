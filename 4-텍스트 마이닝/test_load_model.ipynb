{
 "cells": [
  {
   "metadata": {
    "ExecuteTime": {
     "end_time": "2025-03-10T06:40:20.505561Z",
     "start_time": "2025-03-10T06:40:20.096593Z"
    }
   },
   "cell_type": "code",
   "source": [
    "import pandas as pd\n",
    "\n",
    "# 훈련용 데이터 부터, 메모리에 올려보기, 확인.\n",
    "nsmc_train_df = pd.read_csv(\"./ratings_train.txt\", encoding=\"utf-8\", sep=\"\\t\", engine=\"python\")\n",
    "nsmc_train_df.head()\n"
   ],
   "id": "fa80ac97894d0ec5",
   "outputs": [
    {
     "data": {
      "text/plain": [
       "         id                                           document  label\n",
       "0   9976970                                아 더빙.. 진짜 짜증나네요 목소리      0\n",
       "1   3819312                  흠...포스터보고 초딩영화줄....오버연기조차 가볍지 않구나      1\n",
       "2  10265843                                  너무재밓었다그래서보는것을추천한다      0\n",
       "3   9045019                      교도소 이야기구먼 ..솔직히 재미는 없다..평점 조정      0\n",
       "4   6483659  사이몬페그의 익살스런 연기가 돋보였던 영화!스파이더맨에서 늙어보이기만 했던 커스틴 ...      1"
      ],
      "text/html": [
       "<div>\n",
       "<style scoped>\n",
       "    .dataframe tbody tr th:only-of-type {\n",
       "        vertical-align: middle;\n",
       "    }\n",
       "\n",
       "    .dataframe tbody tr th {\n",
       "        vertical-align: top;\n",
       "    }\n",
       "\n",
       "    .dataframe thead th {\n",
       "        text-align: right;\n",
       "    }\n",
       "</style>\n",
       "<table border=\"1\" class=\"dataframe\">\n",
       "  <thead>\n",
       "    <tr style=\"text-align: right;\">\n",
       "      <th></th>\n",
       "      <th>id</th>\n",
       "      <th>document</th>\n",
       "      <th>label</th>\n",
       "    </tr>\n",
       "  </thead>\n",
       "  <tbody>\n",
       "    <tr>\n",
       "      <th>0</th>\n",
       "      <td>9976970</td>\n",
       "      <td>아 더빙.. 진짜 짜증나네요 목소리</td>\n",
       "      <td>0</td>\n",
       "    </tr>\n",
       "    <tr>\n",
       "      <th>1</th>\n",
       "      <td>3819312</td>\n",
       "      <td>흠...포스터보고 초딩영화줄....오버연기조차 가볍지 않구나</td>\n",
       "      <td>1</td>\n",
       "    </tr>\n",
       "    <tr>\n",
       "      <th>2</th>\n",
       "      <td>10265843</td>\n",
       "      <td>너무재밓었다그래서보는것을추천한다</td>\n",
       "      <td>0</td>\n",
       "    </tr>\n",
       "    <tr>\n",
       "      <th>3</th>\n",
       "      <td>9045019</td>\n",
       "      <td>교도소 이야기구먼 ..솔직히 재미는 없다..평점 조정</td>\n",
       "      <td>0</td>\n",
       "    </tr>\n",
       "    <tr>\n",
       "      <th>4</th>\n",
       "      <td>6483659</td>\n",
       "      <td>사이몬페그의 익살스런 연기가 돋보였던 영화!스파이더맨에서 늙어보이기만 했던 커스틴 ...</td>\n",
       "      <td>1</td>\n",
       "    </tr>\n",
       "  </tbody>\n",
       "</table>\n",
       "</div>"
      ]
     },
     "execution_count": 1,
     "metadata": {},
     "output_type": "execute_result"
    }
   ],
   "execution_count": 1
  },
  {
   "metadata": {
    "ExecuteTime": {
     "end_time": "2025-03-10T06:40:20.564529Z",
     "start_time": "2025-03-10T06:40:20.548885Z"
    }
   },
   "cell_type": "code",
   "source": [
    "# 샘플 데이터 기본 분석\n",
    "nsmc_train_df.info()"
   ],
   "id": "fd7687f2979c8e74",
   "outputs": [
    {
     "name": "stdout",
     "output_type": "stream",
     "text": [
      "<class 'pandas.core.frame.DataFrame'>\n",
      "RangeIndex: 150000 entries, 0 to 149999\n",
      "Data columns (total 3 columns):\n",
      " #   Column    Non-Null Count   Dtype \n",
      "---  ------    --------------   ----- \n",
      " 0   id        150000 non-null  int64 \n",
      " 1   document  149995 non-null  object\n",
      " 2   label     150000 non-null  int64 \n",
      "dtypes: int64(2), object(1)\n",
      "memory usage: 3.4+ MB\n"
     ]
    }
   ],
   "execution_count": 2
  },
  {
   "metadata": {
    "ExecuteTime": {
     "end_time": "2025-03-10T06:40:20.621770Z",
     "start_time": "2025-03-10T06:40:20.597081Z"
    }
   },
   "cell_type": "code",
   "source": [
    "# null 값 제거 -> document 컬럼 5개 존재함\n",
    "nsmc_train_df = nsmc_train_df[nsmc_train_df[\"document\"].notnull()]\n",
    "\n",
    "# 샘플 데이터 기본 분석\n",
    "nsmc_train_df.info()"
   ],
   "id": "75598fb60fe9b78",
   "outputs": [
    {
     "name": "stdout",
     "output_type": "stream",
     "text": [
      "<class 'pandas.core.frame.DataFrame'>\n",
      "Index: 149995 entries, 0 to 149999\n",
      "Data columns (total 3 columns):\n",
      " #   Column    Non-Null Count   Dtype \n",
      "---  ------    --------------   ----- \n",
      " 0   id        149995 non-null  int64 \n",
      " 1   document  149995 non-null  object\n",
      " 2   label     149995 non-null  int64 \n",
      "dtypes: int64(2), object(1)\n",
      "memory usage: 4.6+ MB\n"
     ]
    }
   ],
   "execution_count": 3
  },
  {
   "metadata": {
    "ExecuteTime": {
     "end_time": "2025-03-10T06:40:20.919384Z",
     "start_time": "2025-03-10T06:40:20.905212Z"
    }
   },
   "cell_type": "code",
   "source": [
    "# label 에서 1 ~ 10 점 사이의 점수들이고, 이중에서, 5~8점은 제외하고,\n",
    "# 1~4 점 : 부정 감성으로 -> 0\n",
    "# 9~10 점 : 긍정 감성으로 -> 1\n",
    "# 각 긍정 및 부정의 label 컬럼의 갯수 파악\n",
    "nsmc_train_df[\"label\"].value_counts()"
   ],
   "id": "827318bba91f9904",
   "outputs": [
    {
     "data": {
      "text/plain": [
       "label\n",
       "0    75170\n",
       "1    74825\n",
       "Name: count, dtype: int64"
      ]
     },
     "execution_count": 4,
     "metadata": {},
     "output_type": "execute_result"
    }
   ],
   "execution_count": 4
  },
  {
   "metadata": {
    "ExecuteTime": {
     "end_time": "2025-03-10T06:40:21.148454Z",
     "start_time": "2025-03-10T06:40:20.952187Z"
    }
   },
   "cell_type": "code",
   "source": [
    "import re\n",
    "# re (regex 정규식) 이용해서, 한글만 남기기.\n",
    "nsmc_train_df[\"document\"]= nsmc_train_df[\"document\"].apply(lambda x: re.sub(r'[^ ㄱ - | 가-힣]+',\" \",x))\n",
    "\n",
    "# 5개만 조회 하기.\n",
    "nsmc_train_df.head()"
   ],
   "id": "c5aa1a61d79b740",
   "outputs": [
    {
     "data": {
      "text/plain": [
       "         id                                           document  label\n",
       "0   9976970                                 아 더빙  진짜 짜증나네요 목소리      0\n",
       "1   3819312                       흠 포스터보고 초딩영화줄 오버연기조차 가볍지 않구나      1\n",
       "2  10265843                                  너무재밓었다그래서보는것을추천한다      0\n",
       "3   9045019                        교도소 이야기구먼  솔직히 재미는 없다 평점 조정      0\n",
       "4   6483659  사이몬페그의 익살스런 연기가 돋보였던 영화 스파이더맨에서 늙어보이기만 했던 커스틴 ...      1"
      ],
      "text/html": [
       "<div>\n",
       "<style scoped>\n",
       "    .dataframe tbody tr th:only-of-type {\n",
       "        vertical-align: middle;\n",
       "    }\n",
       "\n",
       "    .dataframe tbody tr th {\n",
       "        vertical-align: top;\n",
       "    }\n",
       "\n",
       "    .dataframe thead th {\n",
       "        text-align: right;\n",
       "    }\n",
       "</style>\n",
       "<table border=\"1\" class=\"dataframe\">\n",
       "  <thead>\n",
       "    <tr style=\"text-align: right;\">\n",
       "      <th></th>\n",
       "      <th>id</th>\n",
       "      <th>document</th>\n",
       "      <th>label</th>\n",
       "    </tr>\n",
       "  </thead>\n",
       "  <tbody>\n",
       "    <tr>\n",
       "      <th>0</th>\n",
       "      <td>9976970</td>\n",
       "      <td>아 더빙  진짜 짜증나네요 목소리</td>\n",
       "      <td>0</td>\n",
       "    </tr>\n",
       "    <tr>\n",
       "      <th>1</th>\n",
       "      <td>3819312</td>\n",
       "      <td>흠 포스터보고 초딩영화줄 오버연기조차 가볍지 않구나</td>\n",
       "      <td>1</td>\n",
       "    </tr>\n",
       "    <tr>\n",
       "      <th>2</th>\n",
       "      <td>10265843</td>\n",
       "      <td>너무재밓었다그래서보는것을추천한다</td>\n",
       "      <td>0</td>\n",
       "    </tr>\n",
       "    <tr>\n",
       "      <th>3</th>\n",
       "      <td>9045019</td>\n",
       "      <td>교도소 이야기구먼  솔직히 재미는 없다 평점 조정</td>\n",
       "      <td>0</td>\n",
       "    </tr>\n",
       "    <tr>\n",
       "      <th>4</th>\n",
       "      <td>6483659</td>\n",
       "      <td>사이몬페그의 익살스런 연기가 돋보였던 영화 스파이더맨에서 늙어보이기만 했던 커스틴 ...</td>\n",
       "      <td>1</td>\n",
       "    </tr>\n",
       "  </tbody>\n",
       "</table>\n",
       "</div>"
      ]
     },
     "execution_count": 5,
     "metadata": {},
     "output_type": "execute_result"
    }
   ],
   "execution_count": 5
  },
  {
   "metadata": {
    "ExecuteTime": {
     "end_time": "2025-03-10T06:40:21.358638Z",
     "start_time": "2025-03-10T06:40:21.177337Z"
    }
   },
   "cell_type": "code",
   "source": [
    "# 평가용 데이터 기본 전처리 작업, 한글만 남기기 작업.\n",
    "nsmc_test_df= pd.read_csv(\"./ratings_test.txt\", encoding=\"utf-8\", sep=\"\\t\", engine=\"python\")\n",
    "\n",
    "nsmc_test_df.head()"
   ],
   "id": "c7c563e168dd8276",
   "outputs": [
    {
     "data": {
      "text/plain": [
       "        id                                           document  label\n",
       "0  6270596                                                굳 ㅋ      1\n",
       "1  9274899                               GDNTOPCLASSINTHECLUB      0\n",
       "2  8544678             뭐야 이 평점들은.... 나쁘진 않지만 10점 짜리는 더더욱 아니잖아      0\n",
       "3  6825595                   지루하지는 않은데 완전 막장임... 돈주고 보기에는....      0\n",
       "4  6723715  3D만 아니었어도 별 다섯 개 줬을텐데.. 왜 3D로 나와서 제 심기를 불편하게 하죠??      0"
      ],
      "text/html": [
       "<div>\n",
       "<style scoped>\n",
       "    .dataframe tbody tr th:only-of-type {\n",
       "        vertical-align: middle;\n",
       "    }\n",
       "\n",
       "    .dataframe tbody tr th {\n",
       "        vertical-align: top;\n",
       "    }\n",
       "\n",
       "    .dataframe thead th {\n",
       "        text-align: right;\n",
       "    }\n",
       "</style>\n",
       "<table border=\"1\" class=\"dataframe\">\n",
       "  <thead>\n",
       "    <tr style=\"text-align: right;\">\n",
       "      <th></th>\n",
       "      <th>id</th>\n",
       "      <th>document</th>\n",
       "      <th>label</th>\n",
       "    </tr>\n",
       "  </thead>\n",
       "  <tbody>\n",
       "    <tr>\n",
       "      <th>0</th>\n",
       "      <td>6270596</td>\n",
       "      <td>굳 ㅋ</td>\n",
       "      <td>1</td>\n",
       "    </tr>\n",
       "    <tr>\n",
       "      <th>1</th>\n",
       "      <td>9274899</td>\n",
       "      <td>GDNTOPCLASSINTHECLUB</td>\n",
       "      <td>0</td>\n",
       "    </tr>\n",
       "    <tr>\n",
       "      <th>2</th>\n",
       "      <td>8544678</td>\n",
       "      <td>뭐야 이 평점들은.... 나쁘진 않지만 10점 짜리는 더더욱 아니잖아</td>\n",
       "      <td>0</td>\n",
       "    </tr>\n",
       "    <tr>\n",
       "      <th>3</th>\n",
       "      <td>6825595</td>\n",
       "      <td>지루하지는 않은데 완전 막장임... 돈주고 보기에는....</td>\n",
       "      <td>0</td>\n",
       "    </tr>\n",
       "    <tr>\n",
       "      <th>4</th>\n",
       "      <td>6723715</td>\n",
       "      <td>3D만 아니었어도 별 다섯 개 줬을텐데.. 왜 3D로 나와서 제 심기를 불편하게 하죠??</td>\n",
       "      <td>0</td>\n",
       "    </tr>\n",
       "  </tbody>\n",
       "</table>\n",
       "</div>"
      ]
     },
     "execution_count": 6,
     "metadata": {},
     "output_type": "execute_result"
    }
   ],
   "execution_count": 6
  },
  {
   "metadata": {
    "ExecuteTime": {
     "end_time": "2025-03-10T06:40:21.427978Z",
     "start_time": "2025-03-10T06:40:21.419775Z"
    }
   },
   "cell_type": "code",
   "source": [
    "# null check\n",
    "nsmc_test_df.info()"
   ],
   "id": "e8a95a6ff5d18a5f",
   "outputs": [
    {
     "name": "stdout",
     "output_type": "stream",
     "text": [
      "<class 'pandas.core.frame.DataFrame'>\n",
      "RangeIndex: 50000 entries, 0 to 49999\n",
      "Data columns (total 3 columns):\n",
      " #   Column    Non-Null Count  Dtype \n",
      "---  ------    --------------  ----- \n",
      " 0   id        50000 non-null  int64 \n",
      " 1   document  49997 non-null  object\n",
      " 2   label     50000 non-null  int64 \n",
      "dtypes: int64(2), object(1)\n",
      "memory usage: 1.1+ MB\n"
     ]
    }
   ],
   "execution_count": 7
  },
  {
   "metadata": {
    "ExecuteTime": {
     "end_time": "2025-03-10T06:40:21.500621Z",
     "start_time": "2025-03-10T06:40:21.486395Z"
    }
   },
   "cell_type": "code",
   "source": [
    "# null 값 제거 -> document 컬럼 5개 존재함\n",
    "nsmc_test_df = nsmc_test_df[nsmc_test_df[\"document\"].notnull()]\n",
    "\n",
    "# 샘플 데이터 기본 분석\n",
    "nsmc_test_df.info()"
   ],
   "id": "64f6dfe1fe0953f8",
   "outputs": [
    {
     "name": "stdout",
     "output_type": "stream",
     "text": [
      "<class 'pandas.core.frame.DataFrame'>\n",
      "Index: 49997 entries, 0 to 49999\n",
      "Data columns (total 3 columns):\n",
      " #   Column    Non-Null Count  Dtype \n",
      "---  ------    --------------  ----- \n",
      " 0   id        49997 non-null  int64 \n",
      " 1   document  49997 non-null  object\n",
      " 2   label     49997 non-null  int64 \n",
      "dtypes: int64(2), object(1)\n",
      "memory usage: 1.5+ MB\n"
     ]
    }
   ],
   "execution_count": 8
  },
  {
   "metadata": {
    "ExecuteTime": {
     "end_time": "2025-03-10T06:40:21.600229Z",
     "start_time": "2025-03-10T06:40:21.525077Z"
    }
   },
   "cell_type": "code",
   "source": [
    "import re\n",
    "# re (regex 정규식) 이용해서, 한글만 남기기.\n",
    "nsmc_test_df[\"document\"]= nsmc_test_df[\"document\"].apply(lambda x: re.sub(r'[^ ㄱ - | 가-힣]+',\" \",x))\n",
    "\n",
    "# 5개만 조회 하기.\n",
    "nsmc_test_df.head()"
   ],
   "id": "a1945aeae62d6c0d",
   "outputs": [
    {
     "data": {
      "text/plain": [
       "        id                                       document  label\n",
       "0  6270596                                            굳        1\n",
       "1  9274899                                                     0\n",
       "2  8544678             뭐야 이 평점들은  나쁘진 않지만  점 짜리는 더더욱 아니잖아      0\n",
       "3  6825595                    지루하지는 않은데 완전 막장임  돈주고 보기에는       0\n",
       "4  6723715   만 아니었어도 별 다섯 개 줬을텐데  왜  로 나와서 제 심기를 불편하게 하죠       0"
      ],
      "text/html": [
       "<div>\n",
       "<style scoped>\n",
       "    .dataframe tbody tr th:only-of-type {\n",
       "        vertical-align: middle;\n",
       "    }\n",
       "\n",
       "    .dataframe tbody tr th {\n",
       "        vertical-align: top;\n",
       "    }\n",
       "\n",
       "    .dataframe thead th {\n",
       "        text-align: right;\n",
       "    }\n",
       "</style>\n",
       "<table border=\"1\" class=\"dataframe\">\n",
       "  <thead>\n",
       "    <tr style=\"text-align: right;\">\n",
       "      <th></th>\n",
       "      <th>id</th>\n",
       "      <th>document</th>\n",
       "      <th>label</th>\n",
       "    </tr>\n",
       "  </thead>\n",
       "  <tbody>\n",
       "    <tr>\n",
       "      <th>0</th>\n",
       "      <td>6270596</td>\n",
       "      <td>굳</td>\n",
       "      <td>1</td>\n",
       "    </tr>\n",
       "    <tr>\n",
       "      <th>1</th>\n",
       "      <td>9274899</td>\n",
       "      <td></td>\n",
       "      <td>0</td>\n",
       "    </tr>\n",
       "    <tr>\n",
       "      <th>2</th>\n",
       "      <td>8544678</td>\n",
       "      <td>뭐야 이 평점들은  나쁘진 않지만  점 짜리는 더더욱 아니잖아</td>\n",
       "      <td>0</td>\n",
       "    </tr>\n",
       "    <tr>\n",
       "      <th>3</th>\n",
       "      <td>6825595</td>\n",
       "      <td>지루하지는 않은데 완전 막장임  돈주고 보기에는</td>\n",
       "      <td>0</td>\n",
       "    </tr>\n",
       "    <tr>\n",
       "      <th>4</th>\n",
       "      <td>6723715</td>\n",
       "      <td>만 아니었어도 별 다섯 개 줬을텐데  왜  로 나와서 제 심기를 불편하게 하죠</td>\n",
       "      <td>0</td>\n",
       "    </tr>\n",
       "  </tbody>\n",
       "</table>\n",
       "</div>"
      ]
     },
     "execution_count": 9,
     "metadata": {},
     "output_type": "execute_result"
    }
   ],
   "execution_count": 9
  },
  {
   "metadata": {
    "ExecuteTime": {
     "end_time": "2025-03-10T06:40:21.668047Z",
     "start_time": "2025-03-10T06:40:21.658485Z"
    }
   },
   "cell_type": "code",
   "source": [
    "# label 에서 1 ~ 10 점 사이의 점수들이고, 이중에서, 5~8점은 제외하고,\n",
    "# 1~4 점 : 부정 감성으로 -> 0\n",
    "# 9~10 점 : 긍정 감성으로 -> 1\n",
    "# 각 긍정 및 부정의 label 컬럼의 갯수 파악\n",
    "nsmc_test_df[\"label\"].value_counts()"
   ],
   "id": "6f4ff9c5f8b79545",
   "outputs": [
    {
     "data": {
      "text/plain": [
       "label\n",
       "1    25171\n",
       "0    24826\n",
       "Name: count, dtype: int64"
      ]
     },
     "execution_count": 10,
     "metadata": {},
     "output_type": "execute_result"
    }
   ],
   "execution_count": 10
  },
  {
   "metadata": {
    "ExecuteTime": {
     "end_time": "2025-03-10T06:40:22.435220Z",
     "start_time": "2025-03-10T06:40:22.157484Z"
    }
   },
   "cell_type": "code",
   "source": [
    "import pickle\n",
    "# 특성화 벡터 작업 -> 머신러닝 일하기 쉬운 환경을 구축.\n",
    "# 시간이 오래 걸림. 약 10분\n",
    "from sklearn.feature_extraction.text import TfidfVectorizer\n",
    "\n",
    "tfidf_model_save_path = \"./tfidf_model.pkl\"\n",
    "\n",
    "# 5. 저장된 TF-IDF 모델 불러오기\n",
    "with open(tfidf_model_save_path, \"rb\") as file:\n",
    "    tfidf = pickle.load(file)\n",
    "\n",
    "print(\"✅ TF-IDF 모델 불러오기 완료\")\n"
   ],
   "id": "3cb412ab3638b158",
   "outputs": [
    {
     "name": "stdout",
     "output_type": "stream",
     "text": [
      "✅ TF-IDF 모델 불러오기 완료\n"
     ]
    }
   ],
   "execution_count": 12
  },
  {
   "metadata": {
    "collapsed": true,
    "ExecuteTime": {
     "end_time": "2025-03-10T06:40:22.582302Z",
     "start_time": "2025-03-10T06:40:22.528217Z"
    }
   },
   "cell_type": "code",
   "source": [
    "import pickle\n",
    "\n",
    "# 최적의 모델 저장 경로 설정\n",
    "model_save_path = \"./SA_lr_best.pkl\"\n",
    "\n",
    "# 저장된 모델 불러오기\n",
    "with open(model_save_path, \"rb\") as file:\n",
    "    SA_lr_best = pickle.load(file)\n",
    "\n",
    "print(\"✅ 모델 불러오기 완료\")"
   ],
   "id": "initial_id",
   "outputs": [
    {
     "name": "stdout",
     "output_type": "stream",
     "text": [
      "✅ 모델 불러오기 완료\n"
     ]
    }
   ],
   "execution_count": 13
  },
  {
   "metadata": {
    "ExecuteTime": {
     "end_time": "2025-03-10T06:41:22.688770Z",
     "start_time": "2025-03-10T06:40:22.617144Z"
    }
   },
   "cell_type": "code",
   "source": "nsmc_test_tfidf = tfidf.transform(nsmc_test_df[\"document\"])",
   "id": "da35cdd82d4b5894",
   "outputs": [],
   "execution_count": 14
  },
  {
   "metadata": {
    "ExecuteTime": {
     "end_time": "2025-03-10T06:41:22.723271Z",
     "start_time": "2025-03-10T06:41:22.712450Z"
    }
   },
   "cell_type": "code",
   "source": [
    "# 변환된 데이터를 이용해서, 평가하기.\n",
    "test_predict = SA_lr_best.predict(nsmc_test_tfidf)"
   ],
   "id": "e34a40c52117c274",
   "outputs": [],
   "execution_count": 15
  },
  {
   "metadata": {
    "ExecuteTime": {
     "end_time": "2025-03-10T06:41:22.748021Z",
     "start_time": "2025-03-10T06:41:22.726412Z"
    }
   },
   "cell_type": "code",
   "source": [
    "# 평가 결과, 정확도로 콘솔에 출력해보기.\n",
    "from sklearn.metrics import accuracy_score\n",
    "# nsmc_test_df[\"label\"], -> 답지\n",
    "# test_predict : 학습된 모델로 예측한 값\n",
    "print(\"감성 분석 정확도 : \", round(accuracy_score(nsmc_test_df[\"label\"], test_predict),3))"
   ],
   "id": "8ac716f104a896d0",
   "outputs": [
    {
     "name": "stdout",
     "output_type": "stream",
     "text": [
      "감성 분석 정확도 :  0.857\n"
     ]
    }
   ],
   "execution_count": 16
  },
  {
   "metadata": {},
   "cell_type": "code",
   "outputs": [],
   "execution_count": null,
   "source": "#test",
   "id": "67cba7eb76f03d30"
  },
  {
   "metadata": {
    "ExecuteTime": {
     "end_time": "2025-03-10T06:48:08.297948Z",
     "start_time": "2025-03-10T06:48:02.287663Z"
    }
   },
   "cell_type": "code",
   "source": "st = input(\"감성 분석하기위한 문장을 입력 해주세요: \")",
   "id": "ea1d4422099ae6bd",
   "outputs": [],
   "execution_count": 20
  },
  {
   "metadata": {
    "ExecuteTime": {
     "end_time": "2025-03-10T06:48:10.331398Z",
     "start_time": "2025-03-10T06:48:10.322986Z"
    }
   },
   "cell_type": "code",
   "source": [
    "st = re.compile(r\"[ㄱ - | 가-힣]+\").findall(st)\n",
    "print(st)\n",
    "st = [\" \".join(st)]\n",
    "print(st)"
   ],
   "id": "3c177f6be5b16aa",
   "outputs": [
    {
     "name": "stdout",
     "output_type": "stream",
     "text": [
      "['오늘 놀러가자']\n",
      "['오늘 놀러가자']\n"
     ]
    }
   ],
   "execution_count": 21
  },
  {
   "metadata": {
    "ExecuteTime": {
     "end_time": "2025-03-10T06:48:13.451141Z",
     "start_time": "2025-03-10T06:48:13.433648Z"
    }
   },
   "cell_type": "code",
   "source": [
    "# 해당 문장을 분석하기 좋게 벡터화 과정.\n",
    "st_tfidf = tfidf.transform(st)"
   ],
   "id": "1d896e02e89c1dfb",
   "outputs": [],
   "execution_count": 22
  },
  {
   "metadata": {
    "ExecuteTime": {
     "end_time": "2025-03-10T06:48:16.300470Z",
     "start_time": "2025-03-10T06:48:16.284501Z"
    }
   },
   "cell_type": "code",
   "source": [
    "# 만들어둔 모델을 이용해서, 예측값 구하기(평가)\n",
    "st_predict = SA_lr_best.predict(st_tfidf)"
   ],
   "id": "8532e4d7c882cecf",
   "outputs": [],
   "execution_count": 23
  },
  {
   "metadata": {
    "ExecuteTime": {
     "end_time": "2025-03-10T06:48:18.472899Z",
     "start_time": "2025-03-10T06:48:18.464886Z"
    }
   },
   "cell_type": "code",
   "source": [
    "# 긍정 인지, 부정인지 판별하기.\n",
    "if(st_predict == 0):\n",
    "  print(st,\" -> 부정\")\n",
    "else:\n",
    "  print(st,\" -> 긍정\")\n"
   ],
   "id": "5c1bb53ae7c10f12",
   "outputs": [
    {
     "name": "stdout",
     "output_type": "stream",
     "text": [
      "['오늘 놀러가자']  -> 긍정\n"
     ]
    }
   ],
   "execution_count": 24
  },
  {
   "metadata": {},
   "cell_type": "code",
   "outputs": [],
   "execution_count": null,
   "source": "",
   "id": "4ffb32167d31bd55"
  }
 ],
 "metadata": {
  "kernelspec": {
   "display_name": "Python 3",
   "language": "python",
   "name": "python3"
  },
  "language_info": {
   "codemirror_mode": {
    "name": "ipython",
    "version": 2
   },
   "file_extension": ".py",
   "mimetype": "text/x-python",
   "name": "python",
   "nbconvert_exporter": "python",
   "pygments_lexer": "ipython2",
   "version": "2.7.6"
  }
 },
 "nbformat": 4,
 "nbformat_minor": 5
}
