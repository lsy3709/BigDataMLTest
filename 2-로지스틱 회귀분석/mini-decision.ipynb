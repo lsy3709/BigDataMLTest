{
 "cells": [
  {
   "cell_type": "code",
   "id": "initial_id",
   "metadata": {
    "collapsed": true,
    "ExecuteTime": {
     "end_time": "2025-03-07T02:24:13.892391Z",
     "start_time": "2025-03-07T02:24:13.436725Z"
    }
   },
   "source": [
    "import pandas as pd\n",
    "import numpy as np\n",
    "import matplotlib.pyplot as plt\n",
    "from sklearn.model_selection import train_test_split\n",
    "from sklearn.preprocessing import StandardScaler\n",
    "from sklearn.tree import DecisionTreeClassifier, export_graphviz\n",
    "from sklearn.metrics import accuracy_score, classification_report, confusion_matrix\n",
    "import seaborn as sns\n",
    "import matplotlib.font_manager as fm\n",
    "import graphviz\n",
    "\n",
    "# 📌 데이터 다운로드 및 로드\n",
    "url = \"https://raw.githubusercontent.com/jbrownlee/Datasets/master/pima-indians-diabetes.data.csv\"\n",
    "\n",
    "# Pregnancies\t임신 횟수\t정수 (int)\n",
    "# Glucose\t혈당 수치 (mg/dL)\t연속형 (float)\n",
    "# BloodPressure\t혈압 (mmHg)\t연속형 (float)\n",
    "# SkinThickness\t피부 두께 (mm)\t연속형 (float)\n",
    "# Insulin\t인슐린 수치 (혈청 인슐린, μU/ml)\t연속형 (float)\n",
    "# BMI\t체질량지수(Body Mass Index)\t연속형 (float)\n",
    "# DiabetesPedigreeFunction\t당뇨병 유전 계수 (가족력 반영 지수)\t연속형 (float)\n",
    "# Age\t나이 (세)\t정수 (int)\n",
    "# Outcome\t당뇨병 여부 (0: 없음, 1: 있음)\t이진 분류 (int)\n",
    "\n",
    "# 데이터셋 컬럼 이름 정의\n",
    "columns = [\"Pregnancies\", \"Glucose\", \"BloodPressure\", \"SkinThickness\", \"Insulin\",\n",
    "           \"BMI\", \"DiabetesPedigreeFunction\", \"Age\", \"Outcome\"]\n",
    "\n",
    "df = pd.read_csv(url, names=columns)\n",
    "\n",
    "# 데이터 확인\n",
    "print(df.head())\n",
    "print(df.info())\n",
    "\n",
    "\n",
    "# 폰트 경로 설정\n",
    "# font_path = \"C:/Windows/Fonts/NanumGothic.ttf\"\n",
    "font_path= \"C:/Windows/Fonts/malgun.ttf\"  # '맑은 고딕' 폰트 경로\n",
    "font_prop = fm.FontProperties(fname=font_path)\n",
    "\n",
    "# Matplotlib 기본 폰트 설정\n",
    "plt.rc('font', family=font_prop.get_name())\n",
    "\n",
    "# 음수 기호 깨짐 방지\n",
    "plt.rcParams['axes.unicode_minus'] = False\n",
    "# 클래스 분포 확인\n",
    "sns.countplot(x=df[\"Outcome\"])\n",
    "plt.title(\"당뇨병 발생 여부 분포\", fontproperties=font_prop)\n",
    "plt.show()\n"
   ],
   "outputs": [
    {
     "name": "stdout",
     "output_type": "stream",
     "text": [
      "   Pregnancies  Glucose  BloodPressure  SkinThickness  Insulin   BMI  \\\n",
      "0            6      148             72             35        0  33.6   \n",
      "1            1       85             66             29        0  26.6   \n",
      "2            8      183             64              0        0  23.3   \n",
      "3            1       89             66             23       94  28.1   \n",
      "4            0      137             40             35      168  43.1   \n",
      "\n",
      "   DiabetesPedigreeFunction  Age  Outcome  \n",
      "0                     0.627   50        1  \n",
      "1                     0.351   31        0  \n",
      "2                     0.672   32        1  \n",
      "3                     0.167   21        0  \n",
      "4                     2.288   33        1  \n",
      "<class 'pandas.core.frame.DataFrame'>\n",
      "RangeIndex: 768 entries, 0 to 767\n",
      "Data columns (total 9 columns):\n",
      " #   Column                    Non-Null Count  Dtype  \n",
      "---  ------                    --------------  -----  \n",
      " 0   Pregnancies               768 non-null    int64  \n",
      " 1   Glucose                   768 non-null    int64  \n",
      " 2   BloodPressure             768 non-null    int64  \n",
      " 3   SkinThickness             768 non-null    int64  \n",
      " 4   Insulin                   768 non-null    int64  \n",
      " 5   BMI                       768 non-null    float64\n",
      " 6   DiabetesPedigreeFunction  768 non-null    float64\n",
      " 7   Age                       768 non-null    int64  \n",
      " 8   Outcome                   768 non-null    int64  \n",
      "dtypes: float64(2), int64(7)\n",
      "memory usage: 54.1 KB\n",
      "None\n"
     ]
    },
    {
     "data": {
      "text/plain": [
       "<Figure size 640x480 with 1 Axes>"
      ],
      "image/png": "[encoded data removed]"
     },
     "metadata": {},
     "output_type": "display_data"
    }
   ],
   "execution_count": 7
  },
  {
   "metadata": {
    "ExecuteTime": {
     "end_time": "2025-03-07T02:19:34.773816Z",
     "start_time": "2025-03-07T02:19:34.765769Z"
    }
   },
   "cell_type": "code",
   "source": [
    "# 🎯 독립 변수(X)와 종속 변수(y) 정의\n",
    "X = df.drop(columns=[\"Outcome\"])  # 8개의 건강 지표\n",
    "y = df[\"Outcome\"]  # 0(당뇨 아님), 1(당뇨병)\n",
    "\n",
    "# 📌 데이터 분할 (훈련 80%, 테스트 20%)\n",
    "X_train, X_test, y_train, y_test = train_test_split(X, y, test_size=0.2, random_state=42)\n",
    "\n",
    "# 📊 데이터 정규화 (스케일링)\n",
    "scaler = StandardScaler()\n",
    "X_train_scaled = scaler.fit_transform(X_train)\n",
    "X_test_scaled = scaler.transform(X_test)\n"
   ],
   "id": "fe8c6f53e4a957d",
   "outputs": [],
   "execution_count": 3
  },
  {
   "metadata": {
    "ExecuteTime": {
     "end_time": "2025-03-07T02:19:46.822883Z",
     "start_time": "2025-03-07T02:19:46.743290Z"
    }
   },
   "cell_type": "code",
   "source": [
    "# 🌳 결정 트리 모델 학습\n",
    "model = DecisionTreeClassifier(max_depth=5, random_state=42)\n",
    "model.fit(X_train_scaled, y_train)\n",
    "\n",
    "# 🎯 예측 수행\n",
    "y_pred = model.predict(X_test_scaled)\n",
    "\n",
    "# 📌 모델 평가\n",
    "accuracy = accuracy_score(y_test, y_pred)\n",
    "print(f\"모델 정확도: {accuracy:.2f}\")\n",
    "\n",
    "# 🔥 혼동 행렬 시각화\n",
    "conf_matrix = confusion_matrix(y_test, y_pred)\n",
    "sns.heatmap(conf_matrix, annot=True, fmt=\"d\", cmap=\"Blues\")\n",
    "plt.xlabel(\"예측값\")\n",
    "plt.ylabel(\"실제값\")\n",
    "plt.title(\"혼동 행렬\")\n",
    "plt.show()\n",
    "\n",
    "# 📊 분류 보고서 출력\n",
    "print(classification_report(y_test, y_pred))\n"
   ],
   "id": "8b240808d7c5fd53",
   "outputs": [
    {
     "name": "stdout",
     "output_type": "stream",
     "text": [
      "모델 정확도: 0.79\n"
     ]
    },
    {
     "data": {
      "text/plain": [
       "<Figure size 640x480 with 2 Axes>"
      ],
      "image/png": "[encoded data removed]"
     },
     "metadata": {},
     "output_type": "display_data"
    },
    {
     "name": "stdout",
     "output_type": "stream",
     "text": [
      "              precision    recall  f1-score   support\n",
      "\n",
      "           0       0.81      0.88      0.84        99\n",
      "           1       0.74      0.64      0.69        55\n",
      "\n",
      "    accuracy                           0.79       154\n",
      "   macro avg       0.78      0.76      0.77       154\n",
      "weighted avg       0.79      0.79      0.79       154\n",
      "\n"
     ]
    }
   ],
   "execution_count": 4
  },
  {
   "metadata": {
    "ExecuteTime": {
     "end_time": "2025-03-07T02:20:14.162413Z",
     "start_time": "2025-03-07T02:20:14.145762Z"
    }
   },
   "cell_type": "code",
   "source": [
    "# 샘플 데이터 3개 생성 (기존 데이터의 평균 및 범위를 참고)\n",
    "sample_data = pd.DataFrame(\n",
    "    [\n",
    "        [2, 120, 70, 30, 80, 25.0, 0.5, 35],  # 예제 1: 정상 범위\n",
    "        [5, 180, 88, 35, 120, 30.0, 0.7, 50], # 예제 2: 당뇨 위험\n",
    "        [0, 95, 60, 25, 60, 22.0, 0.3, 21]   # 예제 3: 건강한 젊은 사람\n",
    "    ],\n",
    "    columns=X.columns  # 원래 학습 데이터와 동일한 열 이름 사용\n",
    ")\n",
    "\n",
    "# 📌 스케일링 적용 (훈련 데이터와 같은 방식으로 변환)\n",
    "sample_data_scaled = scaler.transform(sample_data)\n",
    "\n",
    "# 🎯 예측 수행\n",
    "sample_predictions = model.predict(sample_data_scaled)\n",
    "sample_probabilities = model.predict_proba(sample_data_scaled)[:, 1]  # 당뇨병(1)일 확률\n",
    "\n",
    "# 🔍 결과 출력\n",
    "for i, (pred, prob) in enumerate(zip(sample_predictions, sample_probabilities)):\n",
    "    print(f\"샘플 {i+1}: 예측 결과 = {'당뇨병 있음(1)' if pred == 1 else '당뇨병 없음(0)'} (확률: {prob:.2f})\")\n"
   ],
   "id": "728bdc4a4764ab68",
   "outputs": [
    {
     "name": "stdout",
     "output_type": "stream",
     "text": [
      "샘플 1: 예측 결과 = 당뇨병 없음(0) (확률: 0.00)\n",
      "샘플 2: 예측 결과 = 당뇨병 있음(1) (확률: 1.00)\n",
      "샘플 3: 예측 결과 = 당뇨병 없음(0) (확률: 0.00)\n"
     ]
    }
   ],
   "execution_count": 5
  },
  {
   "metadata": {
    "ExecuteTime": {
     "end_time": "2025-03-07T02:24:20.313801Z",
     "start_time": "2025-03-07T02:24:19.293055Z"
    }
   },
   "cell_type": "code",
   "source": [
    "# 📌 결정 트리 모델을 Graphviz 형식으로 변환\n",
    "from sklearn.tree import export_graphviz\n",
    "\n",
    "dot_data = export_graphviz(\n",
    "    model,                      # 🎯 결정 트리 모델\n",
    "    out_file=None,              # 파일 저장 안 함 (None이면 문자열로 반환)\n",
    "    feature_names=X.columns,    # 📌 특성(Feature) 이름 지정\n",
    "    class_names=[\"No Diabetes\", \"Diabetes\"],  # 📌 클래스 이름 지정\n",
    "    filled=True,                # 📌 색상 채우기 (Gini 계수 기반)\n",
    "    rounded=True,               # 📌 둥근 모서리 적용\n",
    "    special_characters=True      # 📌 특수문자 지원 (텍스트 오류 방지)\n",
    ")\n",
    "\n",
    "\n",
    "# Graphviz 객체 생성 및 출력\n",
    "graph = graphviz.Source(dot_data)\n",
    "graph.render(\"decision_tree\")  # PDF 파일로 저장 가능\n",
    "graph.view()  # 생성된 그래프 열기"
   ],
   "id": "85ed8641d9a5defe",
   "outputs": [
    {
     "data": {
      "text/plain": [
       "'decision_tree.pdf'"
      ]
     },
     "execution_count": 8,
     "metadata": {},
     "output_type": "execute_result"
    }
   ],
   "execution_count": 8
  },
  {
   "metadata": {},
   "cell_type": "code",
   "outputs": [],
   "execution_count": null,
   "source": "",
   "id": "fdd663b6aae0c650"
  }
 ],
 "metadata": {
  "kernelspec": {
   "display_name": "Python 3",
   "language": "python",
   "name": "python3"
  },
  "language_info": {
   "codemirror_mode": {
    "name": "ipython",
    "version": 2
   },
   "file_extension": ".py",
   "mimetype": "text/x-python",
   "name": "python",
   "nbconvert_exporter": "python",
   "pygments_lexer": "ipython2",
   "version": "2.7.6"
  }
 },
 "nbformat": 4,
 "nbformat_minor": 5
}
